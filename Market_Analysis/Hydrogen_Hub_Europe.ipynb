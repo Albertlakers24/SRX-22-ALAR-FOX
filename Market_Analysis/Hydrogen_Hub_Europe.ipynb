{
 "cells": [
  {
   "cell_type": "code",
   "execution_count": 4,
   "metadata": {
    "collapsed": true
   },
   "outputs": [
    {
     "data": {
      "text/plain": "    Date From   To                       Flight_Number  \\\n0    - -  MAD  ACC                Iberia Airlines (IB)   \n1    NaN  NaN  NaN                              Direct   \n2    - -  MAD  ACE                        Ryanair (FR)   \n3    NaN  NaN  NaN                              Direct   \n4    - -  MAD  ACE                Iberia Airlines (IB)   \n..   ...  ...  ...                                 ...   \n647  NaN  NaN  NaN                           Codeshare   \n648  - -  MAD  ZRH                Iberia Airlines (IB)   \n649  NaN  NaN  NaN                              Direct   \n650  - -  MAD  ZRH  Swiss International Air Lines (LX)   \n651  NaN  NaN  NaN                              Direct   \n\n                           Airline  Distance Duration  Seat  Seat_Type  Class  \\\n0                  Iberia Airlines      2416     5:19   NaN        NaN    NaN   \n1                             1229       248     2822   NaN        NaN    NaN   \n2                          Ryanair       977     2:27   NaN        NaN    NaN   \n3                             1229      1055     4296   NaN        NaN    NaN   \n4                  Iberia Airlines       977     2:27   NaN        NaN    NaN   \n..                             ...       ...      ...   ...        ...    ...   \n647                           1229      1678      214   NaN        NaN    NaN   \n648                Iberia Airlines       770     2:02   NaN        NaN    NaN   \n649                           1229      1678     2822   NaN        NaN    NaN   \n650  Swiss International Air Lines       770     2:02   NaN        NaN    NaN   \n651                           1229      1678     4559   NaN        NaN    NaN   \n\n     Reason    Plane  Registration  Trip  Note  From_OID  To_OID  Airline_OID  \\\n0       NaN      319           NaN   NaN   NaN       NaN     NaN          NaN   \n1       NaN      NaN           NaN   NaN   NaN       NaN     NaN          NaN   \n2       NaN      738           NaN   NaN   NaN       NaN     NaN          NaN   \n3       NaN      NaN           NaN   NaN   NaN       NaN     NaN          NaN   \n4       NaN      32S           NaN   NaN   NaN       NaN     NaN          NaN   \n..      ...      ...           ...   ...   ...       ...     ...          ...   \n647     NaN      NaN           NaN   NaN   NaN       NaN     NaN          NaN   \n648     NaN      319           NaN   NaN   NaN       NaN     NaN          NaN   \n649     NaN      NaN           NaN   NaN   NaN       NaN     NaN          NaN   \n650     NaN  320 32A           NaN   NaN   NaN       NaN     NaN          NaN   \n651     NaN      NaN           NaN   NaN   NaN       NaN     NaN          NaN   \n\n     Plane_OID  \n0          NaN  \n1          NaN  \n2          NaN  \n3          NaN  \n4          NaN  \n..         ...  \n647        NaN  \n648        NaN  \n649        NaN  \n650        NaN  \n651        NaN  \n\n[652 rows x 19 columns]",
      "text/html": "<div>\n<style scoped>\n    .dataframe tbody tr th:only-of-type {\n        vertical-align: middle;\n    }\n\n    .dataframe tbody tr th {\n        vertical-align: top;\n    }\n\n    .dataframe thead th {\n        text-align: right;\n    }\n</style>\n<table border=\"1\" class=\"dataframe\">\n  <thead>\n    <tr style=\"text-align: right;\">\n      <th></th>\n      <th>Date</th>\n      <th>From</th>\n      <th>To</th>\n      <th>Flight_Number</th>\n      <th>Airline</th>\n      <th>Distance</th>\n      <th>Duration</th>\n      <th>Seat</th>\n      <th>Seat_Type</th>\n      <th>Class</th>\n      <th>Reason</th>\n      <th>Plane</th>\n      <th>Registration</th>\n      <th>Trip</th>\n      <th>Note</th>\n      <th>From_OID</th>\n      <th>To_OID</th>\n      <th>Airline_OID</th>\n      <th>Plane_OID</th>\n    </tr>\n  </thead>\n  <tbody>\n    <tr>\n      <th>0</th>\n      <td>- -</td>\n      <td>MAD</td>\n      <td>ACC</td>\n      <td>Iberia Airlines (IB)</td>\n      <td>Iberia Airlines</td>\n      <td>2416</td>\n      <td>5:19</td>\n      <td>NaN</td>\n      <td>NaN</td>\n      <td>NaN</td>\n      <td>NaN</td>\n      <td>319</td>\n      <td>NaN</td>\n      <td>NaN</td>\n      <td>NaN</td>\n      <td>NaN</td>\n      <td>NaN</td>\n      <td>NaN</td>\n      <td>NaN</td>\n    </tr>\n    <tr>\n      <th>1</th>\n      <td>NaN</td>\n      <td>NaN</td>\n      <td>NaN</td>\n      <td>Direct</td>\n      <td>1229</td>\n      <td>248</td>\n      <td>2822</td>\n      <td>NaN</td>\n      <td>NaN</td>\n      <td>NaN</td>\n      <td>NaN</td>\n      <td>NaN</td>\n      <td>NaN</td>\n      <td>NaN</td>\n      <td>NaN</td>\n      <td>NaN</td>\n      <td>NaN</td>\n      <td>NaN</td>\n      <td>NaN</td>\n    </tr>\n    <tr>\n      <th>2</th>\n      <td>- -</td>\n      <td>MAD</td>\n      <td>ACE</td>\n      <td>Ryanair (FR)</td>\n      <td>Ryanair</td>\n      <td>977</td>\n      <td>2:27</td>\n      <td>NaN</td>\n      <td>NaN</td>\n      <td>NaN</td>\n      <td>NaN</td>\n      <td>738</td>\n      <td>NaN</td>\n      <td>NaN</td>\n      <td>NaN</td>\n      <td>NaN</td>\n      <td>NaN</td>\n      <td>NaN</td>\n      <td>NaN</td>\n    </tr>\n    <tr>\n      <th>3</th>\n      <td>NaN</td>\n      <td>NaN</td>\n      <td>NaN</td>\n      <td>Direct</td>\n      <td>1229</td>\n      <td>1055</td>\n      <td>4296</td>\n      <td>NaN</td>\n      <td>NaN</td>\n      <td>NaN</td>\n      <td>NaN</td>\n      <td>NaN</td>\n      <td>NaN</td>\n      <td>NaN</td>\n      <td>NaN</td>\n      <td>NaN</td>\n      <td>NaN</td>\n      <td>NaN</td>\n      <td>NaN</td>\n    </tr>\n    <tr>\n      <th>4</th>\n      <td>- -</td>\n      <td>MAD</td>\n      <td>ACE</td>\n      <td>Iberia Airlines (IB)</td>\n      <td>Iberia Airlines</td>\n      <td>977</td>\n      <td>2:27</td>\n      <td>NaN</td>\n      <td>NaN</td>\n      <td>NaN</td>\n      <td>NaN</td>\n      <td>32S</td>\n      <td>NaN</td>\n      <td>NaN</td>\n      <td>NaN</td>\n      <td>NaN</td>\n      <td>NaN</td>\n      <td>NaN</td>\n      <td>NaN</td>\n    </tr>\n    <tr>\n      <th>...</th>\n      <td>...</td>\n      <td>...</td>\n      <td>...</td>\n      <td>...</td>\n      <td>...</td>\n      <td>...</td>\n      <td>...</td>\n      <td>...</td>\n      <td>...</td>\n      <td>...</td>\n      <td>...</td>\n      <td>...</td>\n      <td>...</td>\n      <td>...</td>\n      <td>...</td>\n      <td>...</td>\n      <td>...</td>\n      <td>...</td>\n      <td>...</td>\n    </tr>\n    <tr>\n      <th>647</th>\n      <td>NaN</td>\n      <td>NaN</td>\n      <td>NaN</td>\n      <td>Codeshare</td>\n      <td>1229</td>\n      <td>1678</td>\n      <td>214</td>\n      <td>NaN</td>\n      <td>NaN</td>\n      <td>NaN</td>\n      <td>NaN</td>\n      <td>NaN</td>\n      <td>NaN</td>\n      <td>NaN</td>\n      <td>NaN</td>\n      <td>NaN</td>\n      <td>NaN</td>\n      <td>NaN</td>\n      <td>NaN</td>\n    </tr>\n    <tr>\n      <th>648</th>\n      <td>- -</td>\n      <td>MAD</td>\n      <td>ZRH</td>\n      <td>Iberia Airlines (IB)</td>\n      <td>Iberia Airlines</td>\n      <td>770</td>\n      <td>2:02</td>\n      <td>NaN</td>\n      <td>NaN</td>\n      <td>NaN</td>\n      <td>NaN</td>\n      <td>319</td>\n      <td>NaN</td>\n      <td>NaN</td>\n      <td>NaN</td>\n      <td>NaN</td>\n      <td>NaN</td>\n      <td>NaN</td>\n      <td>NaN</td>\n    </tr>\n    <tr>\n      <th>649</th>\n      <td>NaN</td>\n      <td>NaN</td>\n      <td>NaN</td>\n      <td>Direct</td>\n      <td>1229</td>\n      <td>1678</td>\n      <td>2822</td>\n      <td>NaN</td>\n      <td>NaN</td>\n      <td>NaN</td>\n      <td>NaN</td>\n      <td>NaN</td>\n      <td>NaN</td>\n      <td>NaN</td>\n      <td>NaN</td>\n      <td>NaN</td>\n      <td>NaN</td>\n      <td>NaN</td>\n      <td>NaN</td>\n    </tr>\n    <tr>\n      <th>650</th>\n      <td>- -</td>\n      <td>MAD</td>\n      <td>ZRH</td>\n      <td>Swiss International Air Lines (LX)</td>\n      <td>Swiss International Air Lines</td>\n      <td>770</td>\n      <td>2:02</td>\n      <td>NaN</td>\n      <td>NaN</td>\n      <td>NaN</td>\n      <td>NaN</td>\n      <td>320 32A</td>\n      <td>NaN</td>\n      <td>NaN</td>\n      <td>NaN</td>\n      <td>NaN</td>\n      <td>NaN</td>\n      <td>NaN</td>\n      <td>NaN</td>\n    </tr>\n    <tr>\n      <th>651</th>\n      <td>NaN</td>\n      <td>NaN</td>\n      <td>NaN</td>\n      <td>Direct</td>\n      <td>1229</td>\n      <td>1678</td>\n      <td>4559</td>\n      <td>NaN</td>\n      <td>NaN</td>\n      <td>NaN</td>\n      <td>NaN</td>\n      <td>NaN</td>\n      <td>NaN</td>\n      <td>NaN</td>\n      <td>NaN</td>\n      <td>NaN</td>\n      <td>NaN</td>\n      <td>NaN</td>\n      <td>NaN</td>\n    </tr>\n  </tbody>\n</table>\n<p>652 rows × 19 columns</p>\n</div>"
     },
     "execution_count": 4,
     "metadata": {},
     "output_type": "execute_result"
    }
   ],
   "source": [
    "import numpy as np\n",
    "import pandas as pd\n",
    "\n",
    "madrid = pd.read_csv('openflights_madrid.csv')\n",
    "madrid"
   ]
  },
  {
   "cell_type": "code",
   "execution_count": null,
   "outputs": [],
   "source": [],
   "metadata": {
    "collapsed": false
   }
  },
  {
   "cell_type": "code",
   "execution_count": 8,
   "outputs": [
    {
     "data": {
      "text/plain": "    Aerospatiale/Alenia ATR 42-300 / 320  AT43  AT4   50               France\n0         Aerospatiale/Alenia ATR 42-500  AT45  AT5   50               France\n1     Aerospatiale/Alenia ATR 42/ ATR 72    \\N  ATR   74               France\n2             Aerospatiale/Alenia ATR 72  AT72  AT7   74               France\n3              Aerospatiale/BAC Concorde  CONC  SSC  128               France\n4                        Airbus A300 pax  A30B  AB3  200  European consortium\n..                                   ...   ...  ...  ...                  ...\n212                        Sikorsky S-61   S61  S61   30        United States\n213                        Sikorsky S-76   S76  S76   13        United States\n214              Tupolev Tu-204 / Tu-214  T204  T20  212   Russian Federation\n215                        Tupolev Tu134  T134  TU3   96   Russian Federation\n216                        Tupolev Tu154  T154  TU5  164   Russian Federation\n\n[217 rows x 5 columns]",
      "text/html": "<div>\n<style scoped>\n    .dataframe tbody tr th:only-of-type {\n        vertical-align: middle;\n    }\n\n    .dataframe tbody tr th {\n        vertical-align: top;\n    }\n\n    .dataframe thead th {\n        text-align: right;\n    }\n</style>\n<table border=\"1\" class=\"dataframe\">\n  <thead>\n    <tr style=\"text-align: right;\">\n      <th></th>\n      <th>Aerospatiale/Alenia ATR 42-300 / 320</th>\n      <th>AT43</th>\n      <th>AT4</th>\n      <th>50</th>\n      <th>France</th>\n    </tr>\n  </thead>\n  <tbody>\n    <tr>\n      <th>0</th>\n      <td>Aerospatiale/Alenia ATR 42-500</td>\n      <td>AT45</td>\n      <td>AT5</td>\n      <td>50</td>\n      <td>France</td>\n    </tr>\n    <tr>\n      <th>1</th>\n      <td>Aerospatiale/Alenia ATR 42/ ATR 72</td>\n      <td>\\N</td>\n      <td>ATR</td>\n      <td>74</td>\n      <td>France</td>\n    </tr>\n    <tr>\n      <th>2</th>\n      <td>Aerospatiale/Alenia ATR 72</td>\n      <td>AT72</td>\n      <td>AT7</td>\n      <td>74</td>\n      <td>France</td>\n    </tr>\n    <tr>\n      <th>3</th>\n      <td>Aerospatiale/BAC Concorde</td>\n      <td>CONC</td>\n      <td>SSC</td>\n      <td>128</td>\n      <td>France</td>\n    </tr>\n    <tr>\n      <th>4</th>\n      <td>Airbus A300 pax</td>\n      <td>A30B</td>\n      <td>AB3</td>\n      <td>200</td>\n      <td>European consortium</td>\n    </tr>\n    <tr>\n      <th>...</th>\n      <td>...</td>\n      <td>...</td>\n      <td>...</td>\n      <td>...</td>\n      <td>...</td>\n    </tr>\n    <tr>\n      <th>212</th>\n      <td>Sikorsky S-61</td>\n      <td>S61</td>\n      <td>S61</td>\n      <td>30</td>\n      <td>United States</td>\n    </tr>\n    <tr>\n      <th>213</th>\n      <td>Sikorsky S-76</td>\n      <td>S76</td>\n      <td>S76</td>\n      <td>13</td>\n      <td>United States</td>\n    </tr>\n    <tr>\n      <th>214</th>\n      <td>Tupolev Tu-204 / Tu-214</td>\n      <td>T204</td>\n      <td>T20</td>\n      <td>212</td>\n      <td>Russian Federation</td>\n    </tr>\n    <tr>\n      <th>215</th>\n      <td>Tupolev Tu134</td>\n      <td>T134</td>\n      <td>TU3</td>\n      <td>96</td>\n      <td>Russian Federation</td>\n    </tr>\n    <tr>\n      <th>216</th>\n      <td>Tupolev Tu154</td>\n      <td>T154</td>\n      <td>TU5</td>\n      <td>164</td>\n      <td>Russian Federation</td>\n    </tr>\n  </tbody>\n</table>\n<p>217 rows × 5 columns</p>\n</div>"
     },
     "execution_count": 8,
     "metadata": {},
     "output_type": "execute_result"
    }
   ],
   "source": [
    "aircraft = pd.read_csv('aircrafts.txt',delimiter=';')\n",
    "\n",
    "aircraft"
   ],
   "metadata": {
    "collapsed": false
   }
  },
  {
   "cell_type": "code",
   "execution_count": null,
   "outputs": [],
   "source": [],
   "metadata": {
    "collapsed": false,
    "pycharm": {
     "is_executing": true
    }
   }
  },
  {
   "cell_type": "code",
   "execution_count": null,
   "outputs": [],
   "source": [],
   "metadata": {
    "collapsed": false
   }
  }
 ],
 "metadata": {
  "kernelspec": {
   "display_name": "Python 3",
   "language": "python",
   "name": "python3"
  },
  "language_info": {
   "codemirror_mode": {
    "name": "ipython",
    "version": 2
   },
   "file_extension": ".py",
   "mimetype": "text/x-python",
   "name": "python",
   "nbconvert_exporter": "python",
   "pygments_lexer": "ipython2",
   "version": "2.7.6"
  }
 },
 "nbformat": 4,
 "nbformat_minor": 0
}