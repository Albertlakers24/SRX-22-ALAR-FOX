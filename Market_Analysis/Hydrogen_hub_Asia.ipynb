{
 "cells": [
  {
   "cell_type": "code",
   "execution_count": 212,
   "metadata": {
    "collapsed": true,
    "pycharm": {
     "name": "#%%\n"
    }
   },
   "outputs": [],
   "source": [
    "import pandas as pd\n",
    "from Constants import *\n",
    "from Regional_Aircraft_list import aircraft\n",
    "itami_airport_csv = pd.read_csv('Itami_airport.csv')"
   ]
  },
  {
   "cell_type": "code",
   "execution_count": 213,
   "outputs": [
    {
     "ename": "NameError",
     "evalue": "name 'nmi_mile' is not defined",
     "output_type": "error",
     "traceback": [
      "\u001B[1;31m---------------------------------------------------------------------------\u001B[0m",
      "\u001B[1;31mNameError\u001B[0m                                 Traceback (most recent call last)",
      "\u001B[1;32m<ipython-input-213-38efdba6f632>\u001B[0m in \u001B[0;36m<module>\u001B[1;34m\u001B[0m\n\u001B[0;32m      1\u001B[0m \u001B[0mitami_airport_csv\u001B[0m \u001B[1;33m=\u001B[0m \u001B[0mitami_airport_csv\u001B[0m\u001B[1;33m[\u001B[0m\u001B[1;33m[\u001B[0m\u001B[1;34m\"From\"\u001B[0m\u001B[1;33m,\u001B[0m\u001B[1;34m\"To\"\u001B[0m\u001B[1;33m,\u001B[0m\u001B[1;34m\"Airline\"\u001B[0m\u001B[1;33m,\u001B[0m\u001B[1;34m\"Distance\"\u001B[0m\u001B[1;33m,\u001B[0m\u001B[1;34m\"Duration\"\u001B[0m\u001B[1;33m,\u001B[0m\u001B[1;34m\"Plane\"\u001B[0m\u001B[1;33m]\u001B[0m\u001B[1;33m]\u001B[0m\u001B[1;33m.\u001B[0m\u001B[0miloc\u001B[0m\u001B[1;33m[\u001B[0m\u001B[1;33m:\u001B[0m\u001B[1;33m:\u001B[0m\u001B[1;36m2\u001B[0m\u001B[1;33m]\u001B[0m\u001B[1;33m\u001B[0m\u001B[1;33m\u001B[0m\u001B[0m\n\u001B[1;32m----> 2\u001B[1;33m \u001B[0mitami_airport_csv\u001B[0m \u001B[1;33m=\u001B[0m \u001B[0mitami_airport_csv\u001B[0m\u001B[1;33m[\u001B[0m\u001B[0mitami_airport_csv\u001B[0m\u001B[1;33m[\u001B[0m\u001B[1;34m'Distance'\u001B[0m\u001B[1;33m]\u001B[0m \u001B[1;33m<=\u001B[0m \u001B[1;33m(\u001B[0m\u001B[1;36m500\u001B[0m \u001B[1;33m*\u001B[0m \u001B[0mnmi_mile\u001B[0m\u001B[1;33m)\u001B[0m\u001B[1;33m]\u001B[0m\u001B[1;33m\u001B[0m\u001B[1;33m\u001B[0m\u001B[0m\n\u001B[0m\u001B[0;32m      3\u001B[0m \u001B[0mitami_airport_csv\u001B[0m \u001B[1;33m=\u001B[0m \u001B[0mitami_airport_csv\u001B[0m\u001B[1;33m[\u001B[0m\u001B[0mitami_airport_csv\u001B[0m\u001B[1;33m[\u001B[0m\u001B[1;34m\"Plane\"\u001B[0m\u001B[1;33m]\u001B[0m \u001B[1;33m!=\u001B[0m \u001B[1;34m\"CRJ\"\u001B[0m\u001B[1;33m]\u001B[0m\u001B[1;33m\u001B[0m\u001B[1;33m\u001B[0m\u001B[0m\n",
      "\u001B[1;31mNameError\u001B[0m: name 'nmi_mile' is not defined"
     ]
    }
   ],
   "source": [
    "itami_airport_csv = itami_airport_csv[[\"From\",\"To\",\"Airline\",\"Distance\",\"Duration\",\"Plane\"]].iloc[::2]\n",
    "itami_airport_csv = itami_airport_csv[itami_airport_csv['Distance'] <= (500 * nmi_mile)]\n",
    "itami_airport_csv = itami_airport_csv[itami_airport_csv[\"Plane\"] != \"CRJ\"]"
   ],
   "metadata": {
    "collapsed": false,
    "pycharm": {
     "name": "#%%\n"
    }
   }
  }
 ],
 "metadata": {
  "kernelspec": {
   "display_name": "Python 3",
   "language": "python",
   "name": "python3"
  },
  "language_info": {
   "codemirror_mode": {
    "name": "ipython",
    "version": 2
   },
   "file_extension": ".py",
   "mimetype": "text/x-python",
   "name": "python",
   "nbconvert_exporter": "python",
   "pygments_lexer": "ipython2",
   "version": "2.7.6"
  }
 },
 "nbformat": 4,
 "nbformat_minor": 0
}