{
 "cells": [
  {
   "cell_type": "code",
   "execution_count": 136,
   "metadata": {
    "collapsed": true,
    "pycharm": {
     "name": "#%%\n"
    }
   },
   "outputs": [],
   "source": [
    "import pandas as pd\n",
    "import numpy as np\n",
    "from Constants import nmi_m\n",
    "from Regional_Aircraft_list import aircraft\n",
    "itami_airport_csv = pd.read_csv('Itami_airport.csv')"
   ]
  },
  {
   "cell_type": "code",
   "execution_count": 137,
   "outputs": [],
   "source": [
    "itami_airport_csv = itami_airport_csv[[\"From\",\"To\",\"Airline\",\"Distance\",\"Duration\",\"Plane\"]].iloc[::2]"
   ],
   "metadata": {
    "collapsed": false,
    "pycharm": {
     "name": "#%%\n"
    }
   }
  },
  {
   "cell_type": "code",
   "execution_count": 138,
   "outputs": [],
   "source": [
    "for i in range(itami_airport_csv.shape[0]):\n",
    "    if itami_airport_csv['Distance'].iloc[i] > 500 * nmi_m:\n",
    "        itami_airport_csv.iloc[i].drop()"
   ],
   "metadata": {
    "collapsed": false,
    "pycharm": {
     "name": "#%%\n"
    }
   }
  },
  {
   "cell_type": "code",
   "execution_count": 145,
   "outputs": [],
   "source": [
    "itami_airport = itami_airport_csv.loc[itami_airport_csv['Plane'] == 'CRJ']"
   ],
   "metadata": {
    "collapsed": false,
    "pycharm": {
     "name": "#%%\n"
    }
   }
  },
  {
   "cell_type": "code",
   "execution_count": 146,
   "outputs": [
    {
     "name": "stdout",
     "output_type": "stream",
     "text": [
      "   From   To         Airline  Distance Duration Plane\n",
      "4   ITM  AXT  Japan Airlines       424    01:20   CRJ\n",
      "8   ITM  CTS   Ibex Airlines       645    01:47   CRJ\n",
      "14  ITM  FKS   Ibex Airlines       325    01:09   CRJ\n",
      "18  ITM  FUK   Ibex Airlines       296    01:05   CRJ\n",
      "26  ITM  HKD  Japan Airlines       563    01:37   CRJ\n",
      "54  ITM  MYJ  Japan Airlines       169    00:50   CRJ\n",
      "68  ITM  OIT   Ibex Airlines       229    00:57   CRJ\n",
      "70  ITM  OIT  Japan Airlines       229    00:57   CRJ\n",
      "78  ITM  SDJ   Ibex Airlines       382    01:15   CRJ\n"
     ]
    }
   ],
   "source": [
    "print(itami_airport)"
   ],
   "metadata": {
    "collapsed": false,
    "pycharm": {
     "name": "#%%\n"
    }
   }
  }
 ],
 "metadata": {
  "kernelspec": {
   "display_name": "Python 3",
   "language": "python",
   "name": "python3"
  },
  "language_info": {
   "codemirror_mode": {
    "name": "ipython",
    "version": 2
   },
   "file_extension": ".py",
   "mimetype": "text/x-python",
   "name": "python",
   "nbconvert_exporter": "python",
   "pygments_lexer": "ipython2",
   "version": "2.7.6"
  }
 },
 "nbformat": 4,
 "nbformat_minor": 0
}