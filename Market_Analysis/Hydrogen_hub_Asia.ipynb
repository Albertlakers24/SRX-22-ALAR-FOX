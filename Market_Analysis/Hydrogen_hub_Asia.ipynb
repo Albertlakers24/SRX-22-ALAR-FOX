{
 "cells": [
  {
   "cell_type": "code",
   "execution_count": 136,
   "metadata": {
    "collapsed": true,
    "pycharm": {
     "name": "#%%\n"
    }
   },
   "outputs": [],
   "source": [
    "import pandas as pd\n",
    "import numpy as np\n",
    "from Constants import nmi_m\n",
    "from Regional_Aircraft_list import aircraft\n",
    "itami_airport_csv = pd.read_csv('Itami_airport.csv')"
   ]
  },
  {
   "cell_type": "code",
   "execution_count": 137,
   "outputs": [],
   "source": [
    "itami_airport_csv = itami_airport_csv[[\"From\",\"To\",\"Airline\",\"Distance\",\"Duration\",\"Plane\"]].iloc[::2]"
   ],
   "metadata": {
    "collapsed": false,
    "pycharm": {
     "name": "#%%\n"
    }
   }
  },
  {
   "cell_type": "code",
   "execution_count": 138,
   "outputs": [],
   "source": [
    "for i in range(itami_airport_csv.shape[0]):\n",
    "    if itami_airport_csv['Distance'].iloc[i] > 500 * nmi_m:\n",
    "        itami_airport_csv.iloc[i].drop()"
   ],
   "metadata": {
    "collapsed": false,
    "pycharm": {
     "name": "#%%\n"
    }
   }
  },
  {
   "cell_type": "code",
   "execution_count": 141,
   "outputs": [],
   "source": [],
   "metadata": {
    "collapsed": false,
    "pycharm": {
     "name": "#%%\n"
    }
   }
  },
  {
   "cell_type": "code",
   "execution_count": 142,
   "outputs": [
    {
     "data": {
      "text/plain": "                                     Name  ICAO IATA  Capacity\n0    Aerospatiale/Alenia ATR 42-300 / 320  AT43  AT4      50.0\n1          Aerospatiale/Alenia ATR 42-500  AT45  AT5      50.0\n3              Aerospatiale/Alenia ATR 72  AT72  AT7      74.0\n31                         Antonov AN-140  A140  A40      50.0\n32                          Antonov AN-30  AN30  A30      50.0\n33                          Antonov AN-32  AN32  A32      50.0\n35                    Avro RJ70 Avroliner  RJ70  AR7      70.0\n37                    Avro RJ85 Avroliner  RJ85  AR8      85.0\n45                        BAe 146-100 Pax  B461  141      70.0\n110                 British Aerospace ATP   ATP  ATP      68.0\n113        British Aerospace Jetstream 41  JS41  J41      29.0\n114      British Aerospace One Eleven 200  BA11  B12      89.0\n115      British Aerospace One Eleven 300  BA11  B13      89.0\n116  British Aerospace One Eleven 400/475  BA11  B14      89.0\n118          British Aerospace One Eleven  BA11  B11      89.0\n120               CASA / IPTN 212 Aviocar  C212  CS2      26.0\n121                    CASA / IPTN CN-235  CN35  CS5      45.0\n124             Canadair Regional Jet 100  CRJ1  CR1      50.0\n125             Canadair Regional Jet 200  CRJ2  CR2      50.0\n126             Canadair Regional Jet 700  CRJ7  CR7      70.0\n127             Canadair Regional Jet 900  CRJ9  CR9      80.0\n136             De Havilland DHC-7 Dash 7  DHC7  DH7      54.0\n138      De Havilland DHC-8-100 Dash 8 8Q  DH8A  DH1      40.0\n139      De Havilland DHC-8-200 Dash 8 8Q  DH8B  DH2      40.0\n140      De Havilland DHC-8-300 Dash 8 8Q  DH8C  DH3      50.0\n141        De Havilland DHC-8-400 Dash 8Q  DH8D  DH4      70.0\n149                   Douglas DC-9-10 pax  DC91  D91      80.0\n150                   Douglas DC-9-20 pax  DC92  D92      80.0\n155                           Embraer 170  E170  E70      70.0\n156                           Embraer 175  E175  E75      78.0\n157                           Embraer 190  E190  E90      98.0\n160              Embraer EMB.120 Brasilia  E120  EM2      30.0\n162                         Embraer RJ135  E135  ER3      37.0\n164                  Embraer RJ145 Amazon  E145  ER4      50.0\n169              Fairchild Dornier 328JET  J328  FRJ      34.0\n171              Fairchild Dornier Do.328  D328  D38      33.0\n172                             Fokker 50   F50  F50      50.0\n173                             Fokker 70   F70  F70      79.0\n174           Fokker F.28 Fellowship 1000   F28  F21      65.0\n182                Hawker Siddeley HS.748  A748  HS7      48.0\n183                        Ilyushin IL114  I114  I14      64.0\n191   MIL Mi-8 / Mi-17 / Mi-171 / Mil-172   MI8  MIH      32.0\n203                            NAMC YS-11  YS11  YS1      60.0\n206                             Saab 2000  SB20  S20      50.0\n207                         Saab SF340A/B  SF34  SF3      37.0\n210                         Shorts SD.330  SH33  SH3      30.0\n211                         Shorts SD.360  SH36  SH6      36.0\n213                         Sikorsky S-61   S61  S61      30.0\n216                         Tupolev Tu134  T134  TU3      96.0",
      "text/html": "<div>\n<style scoped>\n    .dataframe tbody tr th:only-of-type {\n        vertical-align: middle;\n    }\n\n    .dataframe tbody tr th {\n        vertical-align: top;\n    }\n\n    .dataframe thead th {\n        text-align: right;\n    }\n</style>\n<table border=\"1\" class=\"dataframe\">\n  <thead>\n    <tr style=\"text-align: right;\">\n      <th></th>\n      <th>Name</th>\n      <th>ICAO</th>\n      <th>IATA</th>\n      <th>Capacity</th>\n    </tr>\n  </thead>\n  <tbody>\n    <tr>\n      <th>0</th>\n      <td>Aerospatiale/Alenia ATR 42-300 / 320</td>\n      <td>AT43</td>\n      <td>AT4</td>\n      <td>50.0</td>\n    </tr>\n    <tr>\n      <th>1</th>\n      <td>Aerospatiale/Alenia ATR 42-500</td>\n      <td>AT45</td>\n      <td>AT5</td>\n      <td>50.0</td>\n    </tr>\n    <tr>\n      <th>3</th>\n      <td>Aerospatiale/Alenia ATR 72</td>\n      <td>AT72</td>\n      <td>AT7</td>\n      <td>74.0</td>\n    </tr>\n    <tr>\n      <th>31</th>\n      <td>Antonov AN-140</td>\n      <td>A140</td>\n      <td>A40</td>\n      <td>50.0</td>\n    </tr>\n    <tr>\n      <th>32</th>\n      <td>Antonov AN-30</td>\n      <td>AN30</td>\n      <td>A30</td>\n      <td>50.0</td>\n    </tr>\n    <tr>\n      <th>33</th>\n      <td>Antonov AN-32</td>\n      <td>AN32</td>\n      <td>A32</td>\n      <td>50.0</td>\n    </tr>\n    <tr>\n      <th>35</th>\n      <td>Avro RJ70 Avroliner</td>\n      <td>RJ70</td>\n      <td>AR7</td>\n      <td>70.0</td>\n    </tr>\n    <tr>\n      <th>37</th>\n      <td>Avro RJ85 Avroliner</td>\n      <td>RJ85</td>\n      <td>AR8</td>\n      <td>85.0</td>\n    </tr>\n    <tr>\n      <th>45</th>\n      <td>BAe 146-100 Pax</td>\n      <td>B461</td>\n      <td>141</td>\n      <td>70.0</td>\n    </tr>\n    <tr>\n      <th>110</th>\n      <td>British Aerospace ATP</td>\n      <td>ATP</td>\n      <td>ATP</td>\n      <td>68.0</td>\n    </tr>\n    <tr>\n      <th>113</th>\n      <td>British Aerospace Jetstream 41</td>\n      <td>JS41</td>\n      <td>J41</td>\n      <td>29.0</td>\n    </tr>\n    <tr>\n      <th>114</th>\n      <td>British Aerospace One Eleven 200</td>\n      <td>BA11</td>\n      <td>B12</td>\n      <td>89.0</td>\n    </tr>\n    <tr>\n      <th>115</th>\n      <td>British Aerospace One Eleven 300</td>\n      <td>BA11</td>\n      <td>B13</td>\n      <td>89.0</td>\n    </tr>\n    <tr>\n      <th>116</th>\n      <td>British Aerospace One Eleven 400/475</td>\n      <td>BA11</td>\n      <td>B14</td>\n      <td>89.0</td>\n    </tr>\n    <tr>\n      <th>118</th>\n      <td>British Aerospace One Eleven</td>\n      <td>BA11</td>\n      <td>B11</td>\n      <td>89.0</td>\n    </tr>\n    <tr>\n      <th>120</th>\n      <td>CASA / IPTN 212 Aviocar</td>\n      <td>C212</td>\n      <td>CS2</td>\n      <td>26.0</td>\n    </tr>\n    <tr>\n      <th>121</th>\n      <td>CASA / IPTN CN-235</td>\n      <td>CN35</td>\n      <td>CS5</td>\n      <td>45.0</td>\n    </tr>\n    <tr>\n      <th>124</th>\n      <td>Canadair Regional Jet 100</td>\n      <td>CRJ1</td>\n      <td>CR1</td>\n      <td>50.0</td>\n    </tr>\n    <tr>\n      <th>125</th>\n      <td>Canadair Regional Jet 200</td>\n      <td>CRJ2</td>\n      <td>CR2</td>\n      <td>50.0</td>\n    </tr>\n    <tr>\n      <th>126</th>\n      <td>Canadair Regional Jet 700</td>\n      <td>CRJ7</td>\n      <td>CR7</td>\n      <td>70.0</td>\n    </tr>\n    <tr>\n      <th>127</th>\n      <td>Canadair Regional Jet 900</td>\n      <td>CRJ9</td>\n      <td>CR9</td>\n      <td>80.0</td>\n    </tr>\n    <tr>\n      <th>136</th>\n      <td>De Havilland DHC-7 Dash 7</td>\n      <td>DHC7</td>\n      <td>DH7</td>\n      <td>54.0</td>\n    </tr>\n    <tr>\n      <th>138</th>\n      <td>De Havilland DHC-8-100 Dash 8 8Q</td>\n      <td>DH8A</td>\n      <td>DH1</td>\n      <td>40.0</td>\n    </tr>\n    <tr>\n      <th>139</th>\n      <td>De Havilland DHC-8-200 Dash 8 8Q</td>\n      <td>DH8B</td>\n      <td>DH2</td>\n      <td>40.0</td>\n    </tr>\n    <tr>\n      <th>140</th>\n      <td>De Havilland DHC-8-300 Dash 8 8Q</td>\n      <td>DH8C</td>\n      <td>DH3</td>\n      <td>50.0</td>\n    </tr>\n    <tr>\n      <th>141</th>\n      <td>De Havilland DHC-8-400 Dash 8Q</td>\n      <td>DH8D</td>\n      <td>DH4</td>\n      <td>70.0</td>\n    </tr>\n    <tr>\n      <th>149</th>\n      <td>Douglas DC-9-10 pax</td>\n      <td>DC91</td>\n      <td>D91</td>\n      <td>80.0</td>\n    </tr>\n    <tr>\n      <th>150</th>\n      <td>Douglas DC-9-20 pax</td>\n      <td>DC92</td>\n      <td>D92</td>\n      <td>80.0</td>\n    </tr>\n    <tr>\n      <th>155</th>\n      <td>Embraer 170</td>\n      <td>E170</td>\n      <td>E70</td>\n      <td>70.0</td>\n    </tr>\n    <tr>\n      <th>156</th>\n      <td>Embraer 175</td>\n      <td>E175</td>\n      <td>E75</td>\n      <td>78.0</td>\n    </tr>\n    <tr>\n      <th>157</th>\n      <td>Embraer 190</td>\n      <td>E190</td>\n      <td>E90</td>\n      <td>98.0</td>\n    </tr>\n    <tr>\n      <th>160</th>\n      <td>Embraer EMB.120 Brasilia</td>\n      <td>E120</td>\n      <td>EM2</td>\n      <td>30.0</td>\n    </tr>\n    <tr>\n      <th>162</th>\n      <td>Embraer RJ135</td>\n      <td>E135</td>\n      <td>ER3</td>\n      <td>37.0</td>\n    </tr>\n    <tr>\n      <th>164</th>\n      <td>Embraer RJ145 Amazon</td>\n      <td>E145</td>\n      <td>ER4</td>\n      <td>50.0</td>\n    </tr>\n    <tr>\n      <th>169</th>\n      <td>Fairchild Dornier 328JET</td>\n      <td>J328</td>\n      <td>FRJ</td>\n      <td>34.0</td>\n    </tr>\n    <tr>\n      <th>171</th>\n      <td>Fairchild Dornier Do.328</td>\n      <td>D328</td>\n      <td>D38</td>\n      <td>33.0</td>\n    </tr>\n    <tr>\n      <th>172</th>\n      <td>Fokker 50</td>\n      <td>F50</td>\n      <td>F50</td>\n      <td>50.0</td>\n    </tr>\n    <tr>\n      <th>173</th>\n      <td>Fokker 70</td>\n      <td>F70</td>\n      <td>F70</td>\n      <td>79.0</td>\n    </tr>\n    <tr>\n      <th>174</th>\n      <td>Fokker F.28 Fellowship 1000</td>\n      <td>F28</td>\n      <td>F21</td>\n      <td>65.0</td>\n    </tr>\n    <tr>\n      <th>182</th>\n      <td>Hawker Siddeley HS.748</td>\n      <td>A748</td>\n      <td>HS7</td>\n      <td>48.0</td>\n    </tr>\n    <tr>\n      <th>183</th>\n      <td>Ilyushin IL114</td>\n      <td>I114</td>\n      <td>I14</td>\n      <td>64.0</td>\n    </tr>\n    <tr>\n      <th>191</th>\n      <td>MIL Mi-8 / Mi-17 / Mi-171 / Mil-172</td>\n      <td>MI8</td>\n      <td>MIH</td>\n      <td>32.0</td>\n    </tr>\n    <tr>\n      <th>203</th>\n      <td>NAMC YS-11</td>\n      <td>YS11</td>\n      <td>YS1</td>\n      <td>60.0</td>\n    </tr>\n    <tr>\n      <th>206</th>\n      <td>Saab 2000</td>\n      <td>SB20</td>\n      <td>S20</td>\n      <td>50.0</td>\n    </tr>\n    <tr>\n      <th>207</th>\n      <td>Saab SF340A/B</td>\n      <td>SF34</td>\n      <td>SF3</td>\n      <td>37.0</td>\n    </tr>\n    <tr>\n      <th>210</th>\n      <td>Shorts SD.330</td>\n      <td>SH33</td>\n      <td>SH3</td>\n      <td>30.0</td>\n    </tr>\n    <tr>\n      <th>211</th>\n      <td>Shorts SD.360</td>\n      <td>SH36</td>\n      <td>SH6</td>\n      <td>36.0</td>\n    </tr>\n    <tr>\n      <th>213</th>\n      <td>Sikorsky S-61</td>\n      <td>S61</td>\n      <td>S61</td>\n      <td>30.0</td>\n    </tr>\n    <tr>\n      <th>216</th>\n      <td>Tupolev Tu134</td>\n      <td>T134</td>\n      <td>TU3</td>\n      <td>96.0</td>\n    </tr>\n  </tbody>\n</table>\n</div>"
     },
     "execution_count": 142,
     "metadata": {},
     "output_type": "execute_result"
    }
   ],
   "source": [],
   "metadata": {
    "collapsed": false,
    "pycharm": {
     "name": "#%%\n"
    }
   }
  }
 ],
 "metadata": {
  "kernelspec": {
   "display_name": "Python 3",
   "language": "python",
   "name": "python3"
  },
  "language_info": {
   "codemirror_mode": {
    "name": "ipython",
    "version": 2
   },
   "file_extension": ".py",
   "mimetype": "text/x-python",
   "name": "python",
   "nbconvert_exporter": "python",
   "pygments_lexer": "ipython2",
   "version": "2.7.6"
  }
 },
 "nbformat": 4,
 "nbformat_minor": 0
}