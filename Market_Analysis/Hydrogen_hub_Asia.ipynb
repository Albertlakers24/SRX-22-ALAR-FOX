{
 "cells": [
  {
   "cell_type": "code",
   "execution_count": 240,
   "metadata": {
    "collapsed": true,
    "pycharm": {
     "name": "#%%\n"
    }
   },
   "outputs": [],
   "source": [
    "import pandas as pd\n",
    "from Constants import *\n",
    "from Market_Analysis.Regional_Aircraft_list import aircraft_list\n",
    "itami_airport_csv = pd.read_csv('Itami_airport.csv')"
   ]
  },
  {
   "cell_type": "code",
   "execution_count": 241,
   "outputs": [],
   "source": [
    "itami_airport_csv = itami_airport_csv[[\"From\",\"To\",\"Airline\",\"Distance\",\"Duration\",\"Plane\"]].iloc[::2]\n",
    "itami_airport_csv = itami_airport_csv[itami_airport_csv['Distance'] <= (500 * 1.151)]\n",
    "itami_airport_csv = itami_airport_csv[itami_airport_csv[\"Plane\"] != \"CRJ\"]"
   ],
   "metadata": {
    "collapsed": false,
    "pycharm": {
     "name": "#%%\n"
    }
   }
  },
  {
   "cell_type": "code",
   "execution_count": 252,
   "outputs": [
    {
     "data": {
      "text/plain": "   From   To             Airline  Distance Duration                Plane\n0   ITM  AOJ      Japan Airlines       500    01:30                  E70\n2   ITM  ASJ      Japan Airlines       552    01:36                  73H\n6   ITM  AXT  All Nippon Airways       424    01:20                  DH8\n14  ITM  FKS       Ibex Airlines       325    01:09                  CR7\n16  ITM  FKS  All Nippon Airways       325    01:09      735 CRJ DH8 CR7\n18  ITM  FUK       Ibex Airlines       296    01:05                  CR7\n20  ITM  FUK      Japan Airlines       296    01:05                  E70\n22  ITM  FUK  All Nippon Airways       296    01:05          767 735 737\n24  ITM  GAJ      Japan Airlines       370    01:14              E70 CRJ\n28  ITM  HNA      Japan Airlines       448    01:23              E70 CRJ\n30  ITM  HND      Japan Airlines       250    01:00              777 767\n32  ITM  HND  All Nippon Airways       250    01:00  772 767 787 773 320\n34  ITM  KCZ  All Nippon Airways       132    00:45              DH8 735\n36  ITM  KIJ      Japan Airlines       299    01:05                  E70\n38  ITM  KIJ  All Nippon Airways       299    01:05                  738\n40  ITM  KMI      Japan Airlines       305    01:06              CRJ E70\n42  ITM  KMI  All Nippon Airways       305    01:06          737 735 DH8\n44  ITM  KMJ      Japan Airlines       295    01:05              E70 CRJ\n46  ITM  KMJ  All Nippon Airways       295    01:05          320 DH8 735\n48  ITM  KOJ      Japan Airlines       341    01:10              73H E70\n50  ITM  KOJ  All Nippon Airways       341    01:10          320 767 735\n52  ITM  MSJ      Japan Airlines       521    01:32                  E70\n56  ITM  MYJ  All Nippon Airways       169    00:50      DH8 737 320 767\n58  ITM  NGS      Japan Airlines       341    01:10                  E70\n60  ITM  NGS  All Nippon Airways       341    01:10              320 735\n62  ITM  NRT   American Airlines       286    01:04              773 737\n64  ITM  NRT      Japan Airlines       286    01:04                  773\n66  ITM  NRT  All Nippon Airways       286    01:04              738 767\n68  ITM  OIT       Ibex Airlines       229    00:57                  CR7\n70  ITM  OIT      Japan Airlines       229    00:57                  CR7\n72  ITM  OIT  All Nippon Airways       229    00:57              CR7 DH8\n78  ITM  SDJ       Ibex Airlines       382    01:15                  CR7\n80  ITM  SDJ      Japan Airlines       382    01:15                  E70\n82  ITM  SDJ  All Nippon Airways       382    01:15              320 767",
      "text/html": "<div>\n<style scoped>\n    .dataframe tbody tr th:only-of-type {\n        vertical-align: middle;\n    }\n\n    .dataframe tbody tr th {\n        vertical-align: top;\n    }\n\n    .dataframe thead th {\n        text-align: right;\n    }\n</style>\n<table border=\"1\" class=\"dataframe\">\n  <thead>\n    <tr style=\"text-align: right;\">\n      <th></th>\n      <th>From</th>\n      <th>To</th>\n      <th>Airline</th>\n      <th>Distance</th>\n      <th>Duration</th>\n      <th>Plane</th>\n    </tr>\n  </thead>\n  <tbody>\n    <tr>\n      <th>0</th>\n      <td>ITM</td>\n      <td>AOJ</td>\n      <td>Japan Airlines</td>\n      <td>500</td>\n      <td>01:30</td>\n      <td>E70</td>\n    </tr>\n    <tr>\n      <th>2</th>\n      <td>ITM</td>\n      <td>ASJ</td>\n      <td>Japan Airlines</td>\n      <td>552</td>\n      <td>01:36</td>\n      <td>73H</td>\n    </tr>\n    <tr>\n      <th>6</th>\n      <td>ITM</td>\n      <td>AXT</td>\n      <td>All Nippon Airways</td>\n      <td>424</td>\n      <td>01:20</td>\n      <td>DH8</td>\n    </tr>\n    <tr>\n      <th>14</th>\n      <td>ITM</td>\n      <td>FKS</td>\n      <td>Ibex Airlines</td>\n      <td>325</td>\n      <td>01:09</td>\n      <td>CR7</td>\n    </tr>\n    <tr>\n      <th>16</th>\n      <td>ITM</td>\n      <td>FKS</td>\n      <td>All Nippon Airways</td>\n      <td>325</td>\n      <td>01:09</td>\n      <td>735 CRJ DH8 CR7</td>\n    </tr>\n    <tr>\n      <th>18</th>\n      <td>ITM</td>\n      <td>FUK</td>\n      <td>Ibex Airlines</td>\n      <td>296</td>\n      <td>01:05</td>\n      <td>CR7</td>\n    </tr>\n    <tr>\n      <th>20</th>\n      <td>ITM</td>\n      <td>FUK</td>\n      <td>Japan Airlines</td>\n      <td>296</td>\n      <td>01:05</td>\n      <td>E70</td>\n    </tr>\n    <tr>\n      <th>22</th>\n      <td>ITM</td>\n      <td>FUK</td>\n      <td>All Nippon Airways</td>\n      <td>296</td>\n      <td>01:05</td>\n      <td>767 735 737</td>\n    </tr>\n    <tr>\n      <th>24</th>\n      <td>ITM</td>\n      <td>GAJ</td>\n      <td>Japan Airlines</td>\n      <td>370</td>\n      <td>01:14</td>\n      <td>E70 CRJ</td>\n    </tr>\n    <tr>\n      <th>28</th>\n      <td>ITM</td>\n      <td>HNA</td>\n      <td>Japan Airlines</td>\n      <td>448</td>\n      <td>01:23</td>\n      <td>E70 CRJ</td>\n    </tr>\n    <tr>\n      <th>30</th>\n      <td>ITM</td>\n      <td>HND</td>\n      <td>Japan Airlines</td>\n      <td>250</td>\n      <td>01:00</td>\n      <td>777 767</td>\n    </tr>\n    <tr>\n      <th>32</th>\n      <td>ITM</td>\n      <td>HND</td>\n      <td>All Nippon Airways</td>\n      <td>250</td>\n      <td>01:00</td>\n      <td>772 767 787 773 320</td>\n    </tr>\n    <tr>\n      <th>34</th>\n      <td>ITM</td>\n      <td>KCZ</td>\n      <td>All Nippon Airways</td>\n      <td>132</td>\n      <td>00:45</td>\n      <td>DH8 735</td>\n    </tr>\n    <tr>\n      <th>36</th>\n      <td>ITM</td>\n      <td>KIJ</td>\n      <td>Japan Airlines</td>\n      <td>299</td>\n      <td>01:05</td>\n      <td>E70</td>\n    </tr>\n    <tr>\n      <th>38</th>\n      <td>ITM</td>\n      <td>KIJ</td>\n      <td>All Nippon Airways</td>\n      <td>299</td>\n      <td>01:05</td>\n      <td>738</td>\n    </tr>\n    <tr>\n      <th>40</th>\n      <td>ITM</td>\n      <td>KMI</td>\n      <td>Japan Airlines</td>\n      <td>305</td>\n      <td>01:06</td>\n      <td>CRJ E70</td>\n    </tr>\n    <tr>\n      <th>42</th>\n      <td>ITM</td>\n      <td>KMI</td>\n      <td>All Nippon Airways</td>\n      <td>305</td>\n      <td>01:06</td>\n      <td>737 735 DH8</td>\n    </tr>\n    <tr>\n      <th>44</th>\n      <td>ITM</td>\n      <td>KMJ</td>\n      <td>Japan Airlines</td>\n      <td>295</td>\n      <td>01:05</td>\n      <td>E70 CRJ</td>\n    </tr>\n    <tr>\n      <th>46</th>\n      <td>ITM</td>\n      <td>KMJ</td>\n      <td>All Nippon Airways</td>\n      <td>295</td>\n      <td>01:05</td>\n      <td>320 DH8 735</td>\n    </tr>\n    <tr>\n      <th>48</th>\n      <td>ITM</td>\n      <td>KOJ</td>\n      <td>Japan Airlines</td>\n      <td>341</td>\n      <td>01:10</td>\n      <td>73H E70</td>\n    </tr>\n    <tr>\n      <th>50</th>\n      <td>ITM</td>\n      <td>KOJ</td>\n      <td>All Nippon Airways</td>\n      <td>341</td>\n      <td>01:10</td>\n      <td>320 767 735</td>\n    </tr>\n    <tr>\n      <th>52</th>\n      <td>ITM</td>\n      <td>MSJ</td>\n      <td>Japan Airlines</td>\n      <td>521</td>\n      <td>01:32</td>\n      <td>E70</td>\n    </tr>\n    <tr>\n      <th>56</th>\n      <td>ITM</td>\n      <td>MYJ</td>\n      <td>All Nippon Airways</td>\n      <td>169</td>\n      <td>00:50</td>\n      <td>DH8 737 320 767</td>\n    </tr>\n    <tr>\n      <th>58</th>\n      <td>ITM</td>\n      <td>NGS</td>\n      <td>Japan Airlines</td>\n      <td>341</td>\n      <td>01:10</td>\n      <td>E70</td>\n    </tr>\n    <tr>\n      <th>60</th>\n      <td>ITM</td>\n      <td>NGS</td>\n      <td>All Nippon Airways</td>\n      <td>341</td>\n      <td>01:10</td>\n      <td>320 735</td>\n    </tr>\n    <tr>\n      <th>62</th>\n      <td>ITM</td>\n      <td>NRT</td>\n      <td>American Airlines</td>\n      <td>286</td>\n      <td>01:04</td>\n      <td>773 737</td>\n    </tr>\n    <tr>\n      <th>64</th>\n      <td>ITM</td>\n      <td>NRT</td>\n      <td>Japan Airlines</td>\n      <td>286</td>\n      <td>01:04</td>\n      <td>773</td>\n    </tr>\n    <tr>\n      <th>66</th>\n      <td>ITM</td>\n      <td>NRT</td>\n      <td>All Nippon Airways</td>\n      <td>286</td>\n      <td>01:04</td>\n      <td>738 767</td>\n    </tr>\n    <tr>\n      <th>68</th>\n      <td>ITM</td>\n      <td>OIT</td>\n      <td>Ibex Airlines</td>\n      <td>229</td>\n      <td>00:57</td>\n      <td>CR7</td>\n    </tr>\n    <tr>\n      <th>70</th>\n      <td>ITM</td>\n      <td>OIT</td>\n      <td>Japan Airlines</td>\n      <td>229</td>\n      <td>00:57</td>\n      <td>CR7</td>\n    </tr>\n    <tr>\n      <th>72</th>\n      <td>ITM</td>\n      <td>OIT</td>\n      <td>All Nippon Airways</td>\n      <td>229</td>\n      <td>00:57</td>\n      <td>CR7 DH8</td>\n    </tr>\n    <tr>\n      <th>78</th>\n      <td>ITM</td>\n      <td>SDJ</td>\n      <td>Ibex Airlines</td>\n      <td>382</td>\n      <td>01:15</td>\n      <td>CR7</td>\n    </tr>\n    <tr>\n      <th>80</th>\n      <td>ITM</td>\n      <td>SDJ</td>\n      <td>Japan Airlines</td>\n      <td>382</td>\n      <td>01:15</td>\n      <td>E70</td>\n    </tr>\n    <tr>\n      <th>82</th>\n      <td>ITM</td>\n      <td>SDJ</td>\n      <td>All Nippon Airways</td>\n      <td>382</td>\n      <td>01:15</td>\n      <td>320 767</td>\n    </tr>\n  </tbody>\n</table>\n</div>"
     },
     "execution_count": 252,
     "metadata": {},
     "output_type": "execute_result"
    }
   ],
   "source": [
    "itami_airport_csv"
   ],
   "metadata": {
    "collapsed": false,
    "pycharm": {
     "name": "#%%\n"
    }
   }
  },
  {
   "cell_type": "code",
   "execution_count": 255,
   "outputs": [
    {
     "ename": "AttributeError",
     "evalue": "'str' object has no attribute 'str'",
     "output_type": "error",
     "traceback": [
      "\u001B[1;31m---------------------------------------------------------------------------\u001B[0m",
      "\u001B[1;31mAttributeError\u001B[0m                            Traceback (most recent call last)",
      "\u001B[1;32m<ipython-input-255-cbe871ffda73>\u001B[0m in \u001B[0;36m<module>\u001B[1;34m\u001B[0m\n\u001B[0;32m      2\u001B[0m \u001B[1;32mfor\u001B[0m \u001B[0mi\u001B[0m \u001B[1;32min\u001B[0m \u001B[0mrange\u001B[0m\u001B[1;33m(\u001B[0m\u001B[0mitami_airport_csv\u001B[0m\u001B[1;33m.\u001B[0m\u001B[0mshape\u001B[0m\u001B[1;33m[\u001B[0m\u001B[1;36m0\u001B[0m\u001B[1;33m]\u001B[0m\u001B[1;33m)\u001B[0m\u001B[1;33m:\u001B[0m\u001B[1;33m\u001B[0m\u001B[1;33m\u001B[0m\u001B[0m\n\u001B[0;32m      3\u001B[0m     \u001B[1;32mfor\u001B[0m \u001B[0mj\u001B[0m \u001B[1;32min\u001B[0m \u001B[0mrange\u001B[0m\u001B[1;33m(\u001B[0m\u001B[0mlen\u001B[0m\u001B[1;33m(\u001B[0m\u001B[0maircraft_list\u001B[0m\u001B[1;33m)\u001B[0m\u001B[1;33m)\u001B[0m\u001B[1;33m:\u001B[0m\u001B[1;33m\u001B[0m\u001B[1;33m\u001B[0m\u001B[0m\n\u001B[1;32m----> 4\u001B[1;33m         \u001B[1;32mif\u001B[0m \u001B[0mitami_airport_csv\u001B[0m\u001B[1;33m[\u001B[0m\u001B[1;34m'Plane'\u001B[0m\u001B[1;33m]\u001B[0m\u001B[1;33m.\u001B[0m\u001B[0miloc\u001B[0m\u001B[1;33m[\u001B[0m\u001B[0mi\u001B[0m\u001B[1;33m]\u001B[0m\u001B[1;33m.\u001B[0m\u001B[0mstr\u001B[0m\u001B[1;33m.\u001B[0m\u001B[0mcontain\u001B[0m\u001B[1;33m(\u001B[0m\u001B[0maircraft_list\u001B[0m\u001B[1;33m[\u001B[0m\u001B[0mj\u001B[0m\u001B[1;33m]\u001B[0m\u001B[1;33m,\u001B[0m \u001B[0mcase\u001B[0m\u001B[1;33m=\u001B[0m\u001B[1;32mFalse\u001B[0m\u001B[1;33m)\u001B[0m \u001B[1;33m==\u001B[0m \u001B[1;32mTrue\u001B[0m\u001B[1;33m:\u001B[0m\u001B[1;33m\u001B[0m\u001B[1;33m\u001B[0m\u001B[0m\n\u001B[0m\u001B[0;32m      5\u001B[0m             \u001B[0mitami_airport_final\u001B[0m\u001B[1;33m.\u001B[0m\u001B[0mappend\u001B[0m\u001B[1;33m(\u001B[0m\u001B[0mitami_airport_csv\u001B[0m\u001B[1;33m.\u001B[0m\u001B[0miloc\u001B[0m\u001B[1;33m[\u001B[0m\u001B[0mi\u001B[0m\u001B[1;33m]\u001B[0m\u001B[1;33m)\u001B[0m\u001B[1;33m\u001B[0m\u001B[1;33m\u001B[0m\u001B[0m\n\u001B[0;32m      6\u001B[0m             \u001B[1;32mpass\u001B[0m\u001B[1;33m\u001B[0m\u001B[1;33m\u001B[0m\u001B[0m\n",
      "\u001B[1;31mAttributeError\u001B[0m: 'str' object has no attribute 'str'"
     ]
    }
   ],
   "source": [
    "itami_airport_final = pd.DataFrame(columns=[\"From\",\"To\",\"Airline\",\"Distance\",\"Duration\",\"Plane\"])\n",
    "for i in range(itami_airport_csv.shape[0]):\n",
    "    for j in range(len(aircraft_list)):\n",
    "        if itami_airport_csv['Plane'].iloc[i].str.contain(aircraft_list[j], case=False) == True:\n",
    "            itami_airport_final.append(itami_airport_csv.iloc[i])\n",
    "            pass\n",
    "        else:\n",
    "            continue"
   ],
   "metadata": {
    "collapsed": false,
    "pycharm": {
     "name": "#%%\n"
    }
   }
  }
 ],
 "metadata": {
  "kernelspec": {
   "display_name": "Python 3",
   "language": "python",
   "name": "python3"
  },
  "language_info": {
   "codemirror_mode": {
    "name": "ipython",
    "version": 2
   },
   "file_extension": ".py",
   "mimetype": "text/x-python",
   "name": "python",
   "nbconvert_exporter": "python",
   "pygments_lexer": "ipython2",
   "version": "2.7.6"
  }
 },
 "nbformat": 4,
 "nbformat_minor": 0
}